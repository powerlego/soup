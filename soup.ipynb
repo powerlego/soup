{
 "cells": [
  {
   "cell_type": "code",
   "execution_count": null,
   "metadata": {},
   "outputs": [],
   "source": [
    "import csv\n",
    "import requests\n",
    "from bs4 import BeautifulSoup\n",
    "import re"
   ]
  },
  {
   "cell_type": "code",
   "execution_count": null,
   "metadata": {},
   "outputs": [],
   "source": [
    "urls = [\n",
    "    \"https://{company_name}.com/investor-relations\",\n",
    "    \"https://investor.{company_name}.com\",\n",
    "    \"https://{company_name}.com/about-us/investors\",\n",
    "    \"https://{company_name}.com/investors\",\n",
    "    \"https://{company_name}.com/investors.html\",\n",
    "    \"https://{company_name}.com/about/investor-relations\",\n",
    "    \"https://investors.{company_name}.com/home/default.aspx\",\n",
    "    \"https://investors.{company_name}.com\",\n",
    "    \"https://investors.{company_name}.com/ir-home/default.aspx\",\n",
    "    \"https://{company_name}.com/corporate/investor-relations\",\n",
    "    \"https://{company_name}.com/en/investor-relations\",\n",
    "]\n"
   ]
  },
  {
   "cell_type": "code",
   "execution_count": null,
   "metadata": {},
   "outputs": [],
   "source": [
    "# Define a list of keywords to look for in the file names\n",
    "keywords = [\"earnings\", \"conference\", \"call\"]\n",
    "# Create a list to store the URLs of earnings call audio and video files\n",
    "ir_links = []"
   ]
  },
  {
   "cell_type": "code",
   "execution_count": null,
   "metadata": {},
   "outputs": [],
   "source": [
    "def getWebsite(url, redirect):\n",
    "    try:\n",
    "        response = requests.get(url, allow_redirects=redirect)\n",
    "        if response.status_code == 404:\n",
    "            response.close()\n",
    "            return \"\"\n",
    "        elif response.status_code == 301:\n",
    "            return getWebsite(url, True)\n",
    "        else:\n",
    "            if response.text != \"\":\n",
    "                return response.text\n",
    "            else:\n",
    "                response.close()\n",
    "                return \"\"\n",
    "    except:\n",
    "        return \"\""
   ]
  },
  {
   "cell_type": "code",
   "execution_count": null,
   "metadata": {},
   "outputs": [],
   "source": [
    "# Open the CSV file containing the list of company names\n",
    "with open(\"companies.csv\") as csvfile:\n",
    "    reader = csv.reader(csvfile)\n",
    "    for row in reader:\n",
    "        company_url = row[1]\n",
    "        if company_url != \"\":\n",
    "            search = re.search(\"(?:www\\.)(.*?)\\.\", company_url)\n",
    "            if search != None:\n",
    "                company_name = search.group(1)\n",
    "                found_company = False\n",
    "                for url in urls:\n",
    "                    format_url = url.replace(\"{company_name}\", company_name)\n",
    "                    result = getWebsite(format_url, False)\n",
    "                    if result != \"\":\n",
    "                        found_company = True\n",
    "                        break\n",
    "\n",
    "                if found_company == False:\n",
    "                    print(f\"{row[0]}: could not find investor urls\")\n",
    "                else:\n",
    "                    print(f\"{row[0]}: found investor urls\")\n",
    "        #\n",
    "        # print(search)\n",
    "        # company_name = search.group(1)\n",
    "        # print(company_name)\n"
   ]
  }
 ],
 "metadata": {
  "kernelspec": {
   "display_name": "soup-lrrUIK98",
   "language": "python",
   "name": "python3"
  },
  "language_info": {
   "name": "python",
   "version": "3.11.1"
  },
  "orig_nbformat": 4
 },
 "nbformat": 4,
 "nbformat_minor": 2
}
